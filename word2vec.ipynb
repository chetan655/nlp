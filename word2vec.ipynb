{
 "cells": [
  {
   "cell_type": "code",
   "execution_count": 3,
   "id": "01cfdec5",
   "metadata": {},
   "outputs": [],
   "source": [
    "import gensim\n",
    "from gensim.models import Word2Vec, KeyedVectors\n",
    "import os\n"
   ]
  },
  {
   "cell_type": "code",
   "execution_count": 4,
   "id": "e29d2641",
   "metadata": {},
   "outputs": [
    {
     "name": "stdout",
     "output_type": "stream",
     "text": [
      "Collecting wget\n",
      "  Downloading wget-3.2.zip (10 kB)\n",
      "  Preparing metadata (setup.py) ... \u001b[?25ldone\n",
      "\u001b[?25hBuilding wheels for collected packages: wget\n",
      "  Building wheel for wget (setup.py) ... \u001b[?25ldone\n",
      "\u001b[?25h  Created wheel for wget: filename=wget-3.2-py3-none-any.whl size=9656 sha256=85e97cff895af73c50a863534b553655936991e2ba1879d7c1a32b6d8f4f3911\n",
      "  Stored in directory: /home/chetan/.cache/pip/wheels/01/46/3b/e29ffbe4ebe614ff224bad40fc6a5773a67a163251585a13a9\n",
      "Successfully built wget\n",
      "Installing collected packages: wget\n",
      "Successfully installed wget-3.2\n"
     ]
    }
   ],
   "source": [
    "!pip install wget"
   ]
  },
  {
   "cell_type": "code",
   "execution_count": 5,
   "id": "0ad81672",
   "metadata": {},
   "outputs": [
    {
     "name": "stdout",
     "output_type": "stream",
     "text": [
      "--2025-06-16 21:21:24--  https://s3.amazonaws.com/dl4j-distribution/GoogleNews-vectors-negative300.bin.gz\n",
      "Resolving s3.amazonaws.com (s3.amazonaws.com)... 52.217.67.38, 16.15.177.203, 52.216.49.208, ...\n",
      "Connecting to s3.amazonaws.com (s3.amazonaws.com)|52.217.67.38|:443... connected.\n",
      "HTTP request sent, awaiting response... 404 Not Found\n",
      "2025-06-16 21:21:26 ERROR 404: Not Found.\n",
      "\n"
     ]
    }
   ],
   "source": [
    "!wget -c \"https://s3.amazonaws.com/dl4j-distribution/GoogleNews-vectors-negative300.bin.gz\""
   ]
  },
  {
   "cell_type": "code",
   "execution_count": 7,
   "id": "91018ac0",
   "metadata": {},
   "outputs": [
    {
     "name": "stdout",
     "output_type": "stream",
     "text": [
      "<_io.TextIOWrapper name='data/got_books/003ssb.txt' mode='r' encoding='cp1252'>\n",
      "<_io.TextIOWrapper name='data/got_books/001ssb.txt' mode='r' encoding='cp1252'>\n",
      "<_io.TextIOWrapper name='data/got_books/004ssb.txt' mode='r' encoding='cp1252'>\n",
      "<_io.TextIOWrapper name='data/got_books/002ssb.txt' mode='r' encoding='cp1252'>\n",
      "<_io.TextIOWrapper name='data/got_books/005ssb.txt' mode='r' encoding='cp1252'>\n"
     ]
    }
   ],
   "source": [
    "from nltk import sent_tokenize\n",
    "from gensim.utils import simple_preprocess\n",
    "\n",
    "story = []\n",
    "\n",
    "for filename in os.listdir('data/got_books'):\n",
    "    f = open(os.path.join('data/got_books', filename), encoding='cp1252')\n",
    "    print(f)\n",
    "    corpus = f.read()\n",
    "    raw_sent = sent_tokenize(corpus)\n",
    "    for sent in raw_sent:\n",
    "        story.append(simple_preprocess(sent))"
   ]
  },
  {
   "cell_type": "code",
   "execution_count": 17,
   "id": "c9faba31",
   "metadata": {},
   "outputs": [
    {
     "data": {
      "text/plain": [
       "145020"
      ]
     },
     "execution_count": 17,
     "metadata": {},
     "output_type": "execute_result"
    }
   ],
   "source": [
    "len(story)"
   ]
  },
  {
   "cell_type": "code",
   "execution_count": 22,
   "id": "e7ddbbf3",
   "metadata": {},
   "outputs": [
    {
     "data": {
      "text/plain": [
       "<gensim.models.word2vec.Word2Vec at 0x7f489db92690>"
      ]
     },
     "execution_count": 22,
     "metadata": {},
     "output_type": "execute_result"
    }
   ],
   "source": [
    "model = gensim.models.Word2Vec(\n",
    "    window = 10,\n",
    "    min_count = 2\n",
    ")\n",
    "model\n"
   ]
  },
  {
   "cell_type": "code",
   "execution_count": 23,
   "id": "d03c78eb",
   "metadata": {},
   "outputs": [],
   "source": [
    "model.build_vocab(story)"
   ]
  },
  {
   "cell_type": "code",
   "execution_count": 24,
   "id": "29e0e177",
   "metadata": {},
   "outputs": [
    {
     "data": {
      "text/plain": [
       "(6570522, 8628190)"
      ]
     },
     "execution_count": 24,
     "metadata": {},
     "output_type": "execute_result"
    }
   ],
   "source": [
    "model.train(story, total_examples=model.corpus_count, epochs=model.epochs)"
   ]
  },
  {
   "cell_type": "code",
   "execution_count": 25,
   "id": "f3c0b0c3",
   "metadata": {},
   "outputs": [
    {
     "name": "stdout",
     "output_type": "stream",
     "text": [
      "17453\n"
     ]
    }
   ],
   "source": [
    "print(len(model.wv))"
   ]
  },
  {
   "cell_type": "code",
   "execution_count": 35,
   "id": "e3362417",
   "metadata": {},
   "outputs": [
    {
     "data": {
      "text/plain": [
       "[('unburnt', 0.9489610195159912),\n",
       " ('daenerys', 0.8123041391372681),\n",
       " ('breaker', 0.7819334864616394),\n",
       " ('elia', 0.7478834986686707),\n",
       " ('rhoynar', 0.7470674514770508),\n",
       " ('octarch', 0.7336223125457764),\n",
       " ('regent', 0.7234934568405151),\n",
       " ('accused', 0.7234556674957275),\n",
       " ('shackles', 0.7160507440567017),\n",
       " ('rhaenys', 0.7137978672981262)]"
      ]
     },
     "execution_count": 35,
     "metadata": {},
     "output_type": "execute_result"
    }
   ],
   "source": [
    "model.wv.most_similar('stormborn')"
   ]
  },
  {
   "cell_type": "code",
   "execution_count": 37,
   "id": "848e8a4e",
   "metadata": {},
   "outputs": [
    {
     "data": {
      "text/plain": [
       "'jon'"
      ]
     },
     "execution_count": 37,
     "metadata": {},
     "output_type": "execute_result"
    }
   ],
   "source": [
    "model.wv.doesnt_match(['jon', 'arya', 'sansa', 'bran', 'robb'])"
   ]
  },
  {
   "cell_type": "code",
   "execution_count": 38,
   "id": "e7fe7b4d",
   "metadata": {},
   "outputs": [
    {
     "data": {
      "text/plain": [
       "array([-0.03521458,  0.05697391,  0.02643416,  0.01598113,  0.00890447,\n",
       "       -0.09954493,  0.07188767,  0.12836899, -0.03681672, -0.07334654,\n",
       "       -0.00486462, -0.12440804, -0.01171935,  0.04196486, -0.00285435,\n",
       "       -0.0152031 ,  0.04736954, -0.05885406, -0.04263621, -0.10213191,\n",
       "       -0.00986481,  0.05356013,  0.03898278,  0.01302425, -0.04753612,\n",
       "       -0.0015808 , -0.05799558, -0.02785153, -0.06937987, -0.00160769,\n",
       "        0.04143335, -0.03807728,  0.03803332, -0.10576229, -0.02791125,\n",
       "        0.05656152,  0.01451779, -0.05315633, -0.07770178, -0.07752929,\n",
       "       -0.04886974, -0.07411432, -0.0909531 ,  0.04829058,  0.09907395,\n",
       "        0.02842447, -0.05757383, -0.0657203 ,  0.0496954 ,  0.06493384,\n",
       "        0.00321165, -0.04975335, -0.04963152, -0.03117915,  0.03133628,\n",
       "       -0.03257208,  0.07183222, -0.00246892, -0.02576369,  0.03891943,\n",
       "       -0.02526639, -0.06590424,  0.04152337,  0.03709546, -0.05541869,\n",
       "        0.0971124 , -0.01590112,  0.04183289, -0.09903418,  0.04299489,\n",
       "       -0.02573323, -0.01717778,  0.07937185,  0.02063417,  0.05994519,\n",
       "       -0.01971034,  0.00251213, -0.018524  , -0.05275155,  0.02020128,\n",
       "       -0.0884986 , -0.01314929, -0.06364442,  0.1097938 , -0.02259882,\n",
       "       -0.03716183, -0.00373356,  0.05554083,  0.0169061 ,  0.05851959,\n",
       "        0.12268421,  0.0066011 ,  0.02710158,  0.03520052,  0.20884946,\n",
       "        0.08869626, -0.01348945, -0.03375228, -0.02206445, -0.03210474],\n",
       "      dtype=float32)"
      ]
     },
     "execution_count": 38,
     "metadata": {},
     "output_type": "execute_result"
    }
   ],
   "source": [
    "model.wv['john']"
   ]
  },
  {
   "cell_type": "code",
   "execution_count": 39,
   "id": "db548139",
   "metadata": {},
   "outputs": [
    {
     "data": {
      "text/plain": [
       "array([[-0.05546009, -0.11632226,  0.08960599, ...,  0.05493644,\n",
       "        -0.11323938,  0.10083216],\n",
       "       [-0.16822839, -0.03694899, -0.03813585, ..., -0.02843486,\n",
       "        -0.07787258,  0.02161715],\n",
       "       [ 0.15564196, -0.12706   , -0.16505226, ..., -0.04473346,\n",
       "         0.09724079, -0.24777219],\n",
       "       ...,\n",
       "       [ 0.06538837,  0.13463137, -0.12949777, ..., -0.16229686,\n",
       "         0.06152949, -0.1890086 ],\n",
       "       [-0.00662112,  0.04179738, -0.0276449 , ..., -0.08837996,\n",
       "         0.04682044, -0.04043797],\n",
       "       [-0.07169189,  0.06802447,  0.01507879, ..., -0.05779944,\n",
       "        -0.0691383 , -0.0633963 ]], dtype=float32)"
      ]
     },
     "execution_count": 39,
     "metadata": {},
     "output_type": "execute_result"
    }
   ],
   "source": [
    "model.wv.get_normed_vectors()"
   ]
  },
  {
   "cell_type": "code",
   "execution_count": 40,
   "id": "fb073b5e",
   "metadata": {},
   "outputs": [
    {
     "data": {
      "text/plain": [
       "['the',\n",
       " 'and',\n",
       " 'to',\n",
       " 'of',\n",
       " 'he',\n",
       " 'his',\n",
       " 'was',\n",
       " 'you',\n",
       " 'her',\n",
       " 'in',\n",
       " 'it',\n",
       " 'had',\n",
       " 'that',\n",
       " 'she',\n",
       " 'as',\n",
       " 'with',\n",
       " 'him',\n",
       " 'not',\n",
       " 'but',\n",
       " 'for',\n",
       " 'they',\n",
       " 'is',\n",
       " 'at',\n",
       " 'on',\n",
       " 'said',\n",
       " 'my',\n",
       " 'have',\n",
       " 'be',\n",
       " 'lord',\n",
       " 'them',\n",
       " 'no',\n",
       " 'from',\n",
       " 'would',\n",
       " 'were',\n",
       " 'me',\n",
       " 'your',\n",
       " 'one',\n",
       " 'all',\n",
       " 'when',\n",
       " 'will',\n",
       " 'ser',\n",
       " 'if',\n",
       " 'so',\n",
       " 'their',\n",
       " 'we',\n",
       " 'could',\n",
       " 'are',\n",
       " 'man',\n",
       " 'there',\n",
       " 'this',\n",
       " 'up',\n",
       " 'been',\n",
       " 'what',\n",
       " 'did',\n",
       " 'by',\n",
       " 'king',\n",
       " 'do',\n",
       " 'men',\n",
       " 'back',\n",
       " 'out',\n",
       " 'more',\n",
       " 'or',\n",
       " 'who',\n",
       " 'down',\n",
       " 'well',\n",
       " 'than',\n",
       " 'only',\n",
       " 'like',\n",
       " 'jon',\n",
       " 'some',\n",
       " 'father',\n",
       " 'old',\n",
       " 'hand',\n",
       " 'even',\n",
       " 'too',\n",
       " 'tyrion',\n",
       " 'before',\n",
       " 'never',\n",
       " 'an',\n",
       " 'off',\n",
       " 'see',\n",
       " 'know',\n",
       " 'into',\n",
       " 'made',\n",
       " 'now',\n",
       " 'eyes',\n",
       " 'black',\n",
       " 'told',\n",
       " 'lady',\n",
       " 'thought',\n",
       " 'time',\n",
       " 'then',\n",
       " 'how',\n",
       " 'long',\n",
       " 'has',\n",
       " 'can',\n",
       " 'might',\n",
       " 'us',\n",
       " 'come',\n",
       " 'where',\n",
       " 'here',\n",
       " 'through',\n",
       " 'still',\n",
       " 'face',\n",
       " 'head',\n",
       " 'red',\n",
       " 'll',\n",
       " 'way',\n",
       " 'boy',\n",
       " 'page',\n",
       " 'must',\n",
       " 'once',\n",
       " 'queen',\n",
       " 'good',\n",
       " 'two',\n",
       " 'brother',\n",
       " 'night',\n",
       " 'over',\n",
       " 'little',\n",
       " 'about',\n",
       " 'took',\n",
       " 'other',\n",
       " 'came',\n",
       " 'though',\n",
       " 'again',\n",
       " 'say',\n",
       " 'three',\n",
       " 'should',\n",
       " 'away',\n",
       " 'dead',\n",
       " 'son',\n",
       " 'own',\n",
       " 'blood',\n",
       " 'am',\n",
       " 'take',\n",
       " 'go',\n",
       " 'half',\n",
       " 'make',\n",
       " 'arya',\n",
       " 'saw',\n",
       " 'day',\n",
       " 'white',\n",
       " 'jaime',\n",
       " 'first',\n",
       " 'himself',\n",
       " 'our',\n",
       " 'look',\n",
       " 'want',\n",
       " 'after',\n",
       " 'much',\n",
       " 'enough',\n",
       " 'sword',\n",
       " 'tell',\n",
       " 'girl',\n",
       " 'bran',\n",
       " 'great',\n",
       " 'its',\n",
       " 'looked',\n",
       " 'left',\n",
       " 'knew',\n",
       " 'asked',\n",
       " 'gave',\n",
       " 'maester',\n",
       " 'called',\n",
       " 'wall',\n",
       " 'every',\n",
       " 'heard',\n",
       " 'sansa',\n",
       " 'let',\n",
       " 'yet',\n",
       " 'went',\n",
       " 'turned',\n",
       " 'dany',\n",
       " 'why',\n",
       " 'behind',\n",
       " 'need',\n",
       " 'around',\n",
       " 'just',\n",
       " 'woman',\n",
       " 'another',\n",
       " 'snow',\n",
       " 'beneath',\n",
       " 'across',\n",
       " 'knight',\n",
       " 'keep',\n",
       " 'grace',\n",
       " 'found',\n",
       " 'gold',\n",
       " 'any',\n",
       " 'last',\n",
       " 'cersei',\n",
       " 'castle',\n",
       " 'those',\n",
       " 'stark',\n",
       " 'gods',\n",
       " 'think',\n",
       " 'hair',\n",
       " 'many',\n",
       " 'feet',\n",
       " 'against',\n",
       " 'hands',\n",
       " 'stannis',\n",
       " 'mother',\n",
       " 'catelyn',\n",
       " 'robert',\n",
       " 'seemed',\n",
       " 'prince',\n",
       " 'may',\n",
       " 'ever',\n",
       " 'robb',\n",
       " 'done',\n",
       " 'don',\n",
       " 'find',\n",
       " 'lannister',\n",
       " 're',\n",
       " 'hear',\n",
       " 'grey',\n",
       " 'name',\n",
       " 'horse',\n",
       " 'high',\n",
       " 'put',\n",
       " 'wine',\n",
       " 'stone',\n",
       " 'hard',\n",
       " 'water',\n",
       " 'upon',\n",
       " 'fire',\n",
       " 'iron',\n",
       " 'until',\n",
       " 'these',\n",
       " 'voice',\n",
       " 'gone',\n",
       " 'give',\n",
       " 'sam',\n",
       " 'better',\n",
       " 'seen',\n",
       " 'shall',\n",
       " 'ned',\n",
       " 'always',\n",
       " 'years',\n",
       " 'between',\n",
       " 'dark',\n",
       " 'place',\n",
       " 'small',\n",
       " 'cold',\n",
       " 'winterfell',\n",
       " 'most',\n",
       " 'hundred',\n",
       " 'stood',\n",
       " 'end',\n",
       " 'sister',\n",
       " 'words',\n",
       " 'sea',\n",
       " 'right',\n",
       " 'nothing',\n",
       " 'walls',\n",
       " 'fingers',\n",
       " 'same',\n",
       " 'cloak',\n",
       " 'house',\n",
       " 'young',\n",
       " 'does',\n",
       " 'beside',\n",
       " 'get',\n",
       " 'mouth',\n",
       " 'seven',\n",
       " 'watch',\n",
       " 'door',\n",
       " 'joffrey',\n",
       " 'green',\n",
       " 'big',\n",
       " 'under',\n",
       " 'few',\n",
       " 'sent',\n",
       " 'perhaps',\n",
       " 'almost',\n",
       " 'such',\n",
       " 'wanted',\n",
       " 'true',\n",
       " 'daughter',\n",
       " 'while',\n",
       " 'leave',\n",
       " 'city',\n",
       " 'wind',\n",
       " 'light',\n",
       " 'arms',\n",
       " 'children',\n",
       " 'herself',\n",
       " 'sweet',\n",
       " 'others',\n",
       " 'lost',\n",
       " 'theon',\n",
       " 'each',\n",
       " 'felt',\n",
       " 'side',\n",
       " 'yes',\n",
       " 'brothers',\n",
       " 'best',\n",
       " 'very',\n",
       " 'die',\n",
       " 'brought',\n",
       " 'soon',\n",
       " 'far',\n",
       " 'died',\n",
       " 'north',\n",
       " 'child',\n",
       " 'fear',\n",
       " 'along',\n",
       " 'brienne',\n",
       " 'word',\n",
       " 'both',\n",
       " 'taken',\n",
       " 'battle',\n",
       " 'help',\n",
       " 'new',\n",
       " 'tywin',\n",
       " 'lords',\n",
       " 'davos',\n",
       " 'something',\n",
       " 'mean',\n",
       " 'wife',\n",
       " 've',\n",
       " 'hall',\n",
       " 'rest',\n",
       " 'kill',\n",
       " 'strong',\n",
       " 'steel',\n",
       " 'began',\n",
       " 'sound',\n",
       " 'won',\n",
       " 'dragon',\n",
       " 'past',\n",
       " 'life',\n",
       " 'tower',\n",
       " 'killed',\n",
       " 'arm',\n",
       " 'free',\n",
       " 'tried',\n",
       " 'sons',\n",
       " 'thing',\n",
       " 'bear',\n",
       " 'days',\n",
       " 'bloody',\n",
       " 'heart',\n",
       " 'pale',\n",
       " 'love',\n",
       " 'sat',\n",
       " 'moment',\n",
       " 'bring',\n",
       " 'bed',\n",
       " 'close',\n",
       " 'knights',\n",
       " 'cut',\n",
       " 'wolf',\n",
       " 'death',\n",
       " 'smile',\n",
       " 'horses',\n",
       " 'inside',\n",
       " 'four',\n",
       " 'brown',\n",
       " 'hot',\n",
       " 'dragons',\n",
       " 'silver',\n",
       " 'part',\n",
       " 'bastard',\n",
       " 'open',\n",
       " 'nor',\n",
       " 'thousand',\n",
       " 'landing',\n",
       " 'uncle',\n",
       " 'above',\n",
       " 'going',\n",
       " 'blue',\n",
       " 'captain',\n",
       " 'air',\n",
       " 'please',\n",
       " 'laughed',\n",
       " 'river',\n",
       " 'rose',\n",
       " 'sun',\n",
       " 'fell',\n",
       " 'war',\n",
       " 'golden',\n",
       " 'sleep',\n",
       " 'without',\n",
       " 'swords',\n",
       " 'renly',\n",
       " 'speak',\n",
       " 'full',\n",
       " 'fool',\n",
       " 'certain',\n",
       " 'beyond',\n",
       " 'feel',\n",
       " 'send',\n",
       " 'tongue',\n",
       " 'fight',\n",
       " 'got',\n",
       " 'rode',\n",
       " 'set',\n",
       " 'thick',\n",
       " 'world',\n",
       " 'throat',\n",
       " 'deep',\n",
       " 'legs',\n",
       " 'call',\n",
       " 'honor',\n",
       " 'trees',\n",
       " 'rock',\n",
       " 'tall',\n",
       " 'table',\n",
       " 'pulled',\n",
       " 'broken',\n",
       " 'women',\n",
       " 'mormont',\n",
       " 'steps',\n",
       " 'things',\n",
       " 'next',\n",
       " 'hodor',\n",
       " 'heavy',\n",
       " 'burned',\n",
       " 'oh',\n",
       " 'toward',\n",
       " 'together',\n",
       " 'skin',\n",
       " 'given',\n",
       " 'since',\n",
       " 'smiled',\n",
       " 'moved',\n",
       " 'dwarf',\n",
       " 'alone',\n",
       " 'storm',\n",
       " 'raised',\n",
       " 'ask',\n",
       " 'ride',\n",
       " 'eye',\n",
       " 'hope',\n",
       " 'soft',\n",
       " 'reached',\n",
       " 'frey',\n",
       " 'second',\n",
       " 'remember',\n",
       " 'someone',\n",
       " 'remembered',\n",
       " 'coming',\n",
       " 'hold',\n",
       " 'cannot',\n",
       " 'meant',\n",
       " 'morning',\n",
       " 'ten',\n",
       " 'else',\n",
       " 'teeth',\n",
       " 'throne',\n",
       " 'command',\n",
       " 'fat',\n",
       " 'which',\n",
       " 'truth',\n",
       " 'commander',\n",
       " 'walder',\n",
       " 'doubt',\n",
       " 'ground',\n",
       " 'jorah',\n",
       " 'outside',\n",
       " 'cup',\n",
       " 'known',\n",
       " 'wore',\n",
       " 'ran',\n",
       " 'gate',\n",
       " 'room',\n",
       " 'held',\n",
       " 'closed',\n",
       " 'home',\n",
       " 'matter',\n",
       " 'sky',\n",
       " 'south',\n",
       " 'wood',\n",
       " 'wed',\n",
       " 'people',\n",
       " 'dozen',\n",
       " 'neck',\n",
       " 'riverrun',\n",
       " 'food',\n",
       " 'instead',\n",
       " 'near',\n",
       " 'talk',\n",
       " 'turn',\n",
       " 'none',\n",
       " 'ships',\n",
       " 'tyrell',\n",
       " 'below',\n",
       " 'moon',\n",
       " 'summer',\n",
       " 'shadow',\n",
       " 'bolton',\n",
       " 'lips',\n",
       " 'watched',\n",
       " 'times',\n",
       " 'leather',\n",
       " 'varys',\n",
       " 'shoulder',\n",
       " 'warm',\n",
       " 'septon',\n",
       " 'caught',\n",
       " 'believe',\n",
       " 'least',\n",
       " 'guards',\n",
       " 'answer',\n",
       " 'blade',\n",
       " 'god',\n",
       " 'ice',\n",
       " 'wondered',\n",
       " 'shield',\n",
       " 'mine',\n",
       " 'opened',\n",
       " 'barristan',\n",
       " 'armor',\n",
       " 'safe',\n",
       " 'six',\n",
       " 'kept',\n",
       " 'return',\n",
       " 'wish',\n",
       " 'tommen',\n",
       " 'used',\n",
       " 'smell',\n",
       " 'less',\n",
       " 'foot',\n",
       " 'being',\n",
       " 'floor',\n",
       " 'squire',\n",
       " 'eddard',\n",
       " 'empty',\n",
       " 'run',\n",
       " 'followed',\n",
       " 'serve',\n",
       " 'friends',\n",
       " 'boys',\n",
       " 'beard',\n",
       " 'wedding',\n",
       " 'cloaks',\n",
       " 'baratheon',\n",
       " 'wrong',\n",
       " 'eat',\n",
       " 'ghost',\n",
       " 'daenerys',\n",
       " 'sight',\n",
       " 'five',\n",
       " 'flesh',\n",
       " 'hound',\n",
       " 'ship',\n",
       " 'strength',\n",
       " 'bones',\n",
       " 'returned',\n",
       " 'nose',\n",
       " 'crown',\n",
       " 'yellow',\n",
       " 'chest',\n",
       " 'covered',\n",
       " 'says',\n",
       " 'commanded',\n",
       " 'petyr',\n",
       " 'sometimes',\n",
       " 'aemon',\n",
       " 'filled',\n",
       " 'friend',\n",
       " 'led',\n",
       " 'common',\n",
       " 'aye',\n",
       " 'yours',\n",
       " 'show',\n",
       " 'fighting',\n",
       " 'spoke',\n",
       " 'flames',\n",
       " 'lysa',\n",
       " 'asha',\n",
       " 'aside',\n",
       " 'huge',\n",
       " 'crow',\n",
       " 'belly',\n",
       " 'master',\n",
       " 'seem',\n",
       " 'breath',\n",
       " 'yard',\n",
       " 'gates',\n",
       " 'waiting',\n",
       " 'within',\n",
       " 'looking',\n",
       " 'wooden',\n",
       " 'wet',\n",
       " 'realm',\n",
       " 'thin',\n",
       " 'work',\n",
       " 'bad',\n",
       " 'use',\n",
       " 'promised',\n",
       " 'grew',\n",
       " 'husband',\n",
       " 'later',\n",
       " 'tree',\n",
       " 'onto',\n",
       " 'loved',\n",
       " 'wildlings',\n",
       " 'afraid',\n",
       " 'girls',\n",
       " 'greyjoy',\n",
       " 'shoulders',\n",
       " 'rain',\n",
       " 'walked',\n",
       " 'shouted',\n",
       " 'maid',\n",
       " 'remained',\n",
       " 'late',\n",
       " 'mance',\n",
       " 'guard',\n",
       " 'liked',\n",
       " 'meereen',\n",
       " 'fall',\n",
       " 'littlefinger',\n",
       " 'margaery',\n",
       " 'dog',\n",
       " 'year',\n",
       " 'hurt',\n",
       " 'passed',\n",
       " 'balon',\n",
       " 'taste',\n",
       " 'lay',\n",
       " 'dothraki',\n",
       " 'drew',\n",
       " 'spear',\n",
       " 'song',\n",
       " 'realized',\n",
       " 'pushed',\n",
       " 'named',\n",
       " 'sure',\n",
       " 'reach',\n",
       " 'whispered',\n",
       " 'finally',\n",
       " 'brave',\n",
       " 'different',\n",
       " 'stand',\n",
       " 'suddenly',\n",
       " 'wolves',\n",
       " 'poor',\n",
       " 'kingsguard',\n",
       " 'drogo',\n",
       " 'stay',\n",
       " 'arryn',\n",
       " 'kingdoms',\n",
       " 'stop',\n",
       " 'ears',\n",
       " 'edmure',\n",
       " 'broke',\n",
       " 'burning',\n",
       " 'princess',\n",
       " 'faces',\n",
       " 'lannisters',\n",
       " 'dream',\n",
       " 'direwolf',\n",
       " 'axe',\n",
       " 'west',\n",
       " 'heir',\n",
       " 'tears',\n",
       " 'clegane',\n",
       " 'either',\n",
       " 'darkness',\n",
       " 'drink',\n",
       " 'pointed',\n",
       " 'raven',\n",
       " 'try',\n",
       " 'hill',\n",
       " 'forward',\n",
       " 'sworn',\n",
       " 'pain',\n",
       " 'khal',\n",
       " 'lie',\n",
       " 'kings',\n",
       " 'truly',\n",
       " 'dagger',\n",
       " 'seat',\n",
       " 'grown',\n",
       " 'road',\n",
       " 'born',\n",
       " 'care',\n",
       " 'harrenhal',\n",
       " 'bronn',\n",
       " 'round',\n",
       " 'helm',\n",
       " 'feast',\n",
       " 'meat',\n",
       " 'quick',\n",
       " 'pycelle',\n",
       " 'understand',\n",
       " 'amongst',\n",
       " 'longer',\n",
       " 'lifted',\n",
       " 'whilst',\n",
       " 'reminded',\n",
       " 'maybe',\n",
       " 'mountain',\n",
       " 'short',\n",
       " 'step',\n",
       " 'rodrik',\n",
       " 'ones',\n",
       " 'pretty',\n",
       " 'melisandre',\n",
       " 'third',\n",
       " 'bit',\n",
       " 'worse',\n",
       " 'aegon',\n",
       " 'stopped',\n",
       " 'lands',\n",
       " 'sit',\n",
       " 'sharp',\n",
       " 'victarion',\n",
       " 'save',\n",
       " 'knows',\n",
       " 'whose',\n",
       " 'live',\n",
       " 'smoke',\n",
       " 'pray',\n",
       " 'window',\n",
       " 'horn',\n",
       " 'leg',\n",
       " 'younger',\n",
       " 'westeros',\n",
       " 'didn',\n",
       " 'twenty',\n",
       " 'silk',\n",
       " 'heads',\n",
       " 'peace',\n",
       " 'septa',\n",
       " 'pie',\n",
       " 'slaves',\n",
       " 'ago',\n",
       " 'bread',\n",
       " 'mind',\n",
       " 'laugh',\n",
       " 'hizdahr',\n",
       " 'wants',\n",
       " 'low',\n",
       " 'east',\n",
       " 'blind',\n",
       " 'towers',\n",
       " 'mad',\n",
       " 'myself',\n",
       " 'bright',\n",
       " 'sooner',\n",
       " 'reek',\n",
       " 'slain',\n",
       " 'coin',\n",
       " 'camp',\n",
       " 'making',\n",
       " 'older',\n",
       " 'point',\n",
       " 'wait',\n",
       " 'salt',\n",
       " 'narrow',\n",
       " 'served',\n",
       " 'drowned',\n",
       " 'walk',\n",
       " 'glanced',\n",
       " 'cheeks',\n",
       " 'knife',\n",
       " 'luwin',\n",
       " 'cousin',\n",
       " 'sort',\n",
       " 'stepped',\n",
       " 'targaryen',\n",
       " 'quiet',\n",
       " 'touched',\n",
       " 'often',\n",
       " 'shook',\n",
       " 'riding',\n",
       " 'twisted',\n",
       " 'naked',\n",
       " 'loras',\n",
       " 'during',\n",
       " 'choice',\n",
       " 'lion',\n",
       " 'silence',\n",
       " 'fish',\n",
       " 'forgotten',\n",
       " 'kevan',\n",
       " 'ramsay',\n",
       " 'read',\n",
       " 'hung',\n",
       " 'gift',\n",
       " 'replied',\n",
       " 'fallen',\n",
       " 'running',\n",
       " 'large',\n",
       " 'knees',\n",
       " 'fought',\n",
       " 'silent',\n",
       " 'cat',\n",
       " 'company',\n",
       " 'ahead',\n",
       " 'sept',\n",
       " 'needs',\n",
       " 'dogs',\n",
       " 'beautiful',\n",
       " 'dawn',\n",
       " 'rhaegar',\n",
       " 'pass',\n",
       " 'casterly',\n",
       " 'dorne',\n",
       " 'knee',\n",
       " 'tully',\n",
       " 'mud',\n",
       " 'themselves',\n",
       " 'singer',\n",
       " 'stupid',\n",
       " 'gregor',\n",
       " 'body',\n",
       " 'court',\n",
       " 'meera',\n",
       " 'age',\n",
       " 'trying',\n",
       " 'top',\n",
       " 'swear',\n",
       " 'kind',\n",
       " 'gendry',\n",
       " 'offered',\n",
       " 'leaves',\n",
       " 'clothes',\n",
       " 'whole',\n",
       " 'closer',\n",
       " 'kiss',\n",
       " 'anything',\n",
       " 'pay',\n",
       " 'threw',\n",
       " 'agreed',\n",
       " 'whatever',\n",
       " 'wonder',\n",
       " 'climbed',\n",
       " 'answered',\n",
       " 'saddle',\n",
       " 'wide',\n",
       " 'saying',\n",
       " 'stars',\n",
       " 'comes',\n",
       " 'stones',\n",
       " 'chain',\n",
       " 'host',\n",
       " 'trust',\n",
       " 'yourself',\n",
       " 'trident',\n",
       " 'pleased',\n",
       " 'fair',\n",
       " 'spears',\n",
       " 'eight',\n",
       " 'ear',\n",
       " 'hour',\n",
       " 'insisted',\n",
       " 'dying',\n",
       " 'yunkai',\n",
       " 'dry',\n",
       " 'fast',\n",
       " 'carried',\n",
       " 'doors',\n",
       " 'ought',\n",
       " 'service',\n",
       " 'fist',\n",
       " 'mail',\n",
       " 'woods',\n",
       " 'council',\n",
       " 'wildling',\n",
       " 'thank',\n",
       " 'join',\n",
       " 'fine',\n",
       " 'milk',\n",
       " 'crossed',\n",
       " 'wasn',\n",
       " 'needed',\n",
       " 'quentyn',\n",
       " 'finger',\n",
       " 'gilly',\n",
       " 'shadows',\n",
       " 'doing',\n",
       " 'tent',\n",
       " 'helped',\n",
       " 'win',\n",
       " 'land',\n",
       " 'boots',\n",
       " 'bird',\n",
       " 'somehow',\n",
       " 'imp',\n",
       " 'folk',\n",
       " 'names',\n",
       " 'crows',\n",
       " 'banners',\n",
       " 'kissed',\n",
       " 'winter',\n",
       " 'letter',\n",
       " 'angry',\n",
       " 'screamed',\n",
       " 'pink',\n",
       " 'frightened',\n",
       " 'alive',\n",
       " 'learn',\n",
       " 'torch',\n",
       " 'chair',\n",
       " 'eunuch',\n",
       " 'watching',\n",
       " 'daughters',\n",
       " 'tarly',\n",
       " 'harm',\n",
       " 'dragonstone',\n",
       " 'fires',\n",
       " 'learned',\n",
       " 'nine',\n",
       " 'easy',\n",
       " 'serving',\n",
       " 'neither',\n",
       " 'standing',\n",
       " 'drunk',\n",
       " 'question',\n",
       " 'wings',\n",
       " 'sail',\n",
       " 'sisters',\n",
       " 'nodded',\n",
       " 'myrcella',\n",
       " 'priest',\n",
       " 'forth',\n",
       " 'bone',\n",
       " 'warned',\n",
       " 'giant',\n",
       " 'harbor',\n",
       " 'slipped',\n",
       " 'slow',\n",
       " 'field',\n",
       " 'slid',\n",
       " 'falling',\n",
       " 'dreams',\n",
       " 'slowly',\n",
       " 'bronze',\n",
       " 'promise',\n",
       " 'atop',\n",
       " 'whore',\n",
       " 'slave',\n",
       " 'rise',\n",
       " 'move',\n",
       " 'illyrio',\n",
       " 'line',\n",
       " 'makes',\n",
       " 'laughter',\n",
       " 'pyke',\n",
       " 'flowers',\n",
       " 'grass',\n",
       " 'faced',\n",
       " 'loose',\n",
       " 'declared',\n",
       " 'bay',\n",
       " 'earth',\n",
       " 'viserys',\n",
       " 'front',\n",
       " 'power',\n",
       " 'twice',\n",
       " 'lived',\n",
       " 'play',\n",
       " 'because',\n",
       " 'happened',\n",
       " 'cell',\n",
       " 'oldtown',\n",
       " 'dance',\n",
       " 'break',\n",
       " 'chains',\n",
       " 'clean',\n",
       " 'aerys',\n",
       " 'surely',\n",
       " 'jeyne',\n",
       " 'claim',\n",
       " 'eyrie',\n",
       " 'unless',\n",
       " 'fresh',\n",
       " 'cried',\n",
       " 'pair',\n",
       " 'quite',\n",
       " 'tormund',\n",
       " 'craster',\n",
       " 'laid',\n",
       " 'met',\n",
       " 'game',\n",
       " 'morrow',\n",
       " 'sad',\n",
       " 'shouting',\n",
       " 'already',\n",
       " 'rule',\n",
       " 'softly',\n",
       " 'touch',\n",
       " 'started',\n",
       " 'sense',\n",
       " 'count',\n",
       " 'afterward',\n",
       " 'woke',\n",
       " 'mounted',\n",
       " 'steward',\n",
       " 'sudden',\n",
       " 'captive',\n",
       " 'hide',\n",
       " 'highgarden',\n",
       " 'jojen',\n",
       " ...]"
      ]
     },
     "execution_count": 40,
     "metadata": {},
     "output_type": "execute_result"
    }
   ],
   "source": [
    "y = model.wv.index_to_key\n",
    "y"
   ]
  },
  {
   "cell_type": "code",
   "execution_count": 41,
   "id": "9c8c3722",
   "metadata": {},
   "outputs": [],
   "source": [
    "from sklearn.decomposition import PCA"
   ]
  },
  {
   "cell_type": "code",
   "execution_count": 42,
   "id": "f6db2031",
   "metadata": {},
   "outputs": [],
   "source": [
    "pca = PCA(n_components=3)"
   ]
  },
  {
   "cell_type": "code",
   "execution_count": 43,
   "id": "b68124c5",
   "metadata": {},
   "outputs": [],
   "source": [
    "x = pca.fit_transform(model.wv.get_normed_vectors())"
   ]
  },
  {
   "cell_type": "code",
   "execution_count": 44,
   "id": "e3e2db53",
   "metadata": {},
   "outputs": [
    {
     "data": {
      "text/plain": [
       "(17453, 3)"
      ]
     },
     "execution_count": 44,
     "metadata": {},
     "output_type": "execute_result"
    }
   ],
   "source": [
    "x.shape"
   ]
  },
  {
   "cell_type": "code",
   "execution_count": 46,
   "id": "babf4728",
   "metadata": {},
   "outputs": [
    {
     "data": {
      "application/vnd.plotly.v1+json": {
       "config": {
        "plotlyServerURL": "https://plot.ly"
       },
       "data": [
        {
         "hovertemplate": "color=the<br>0=%{x}<br>1=%{y}<br>2=%{z}<extra></extra>",
         "legendgroup": "the",
         "marker": {
          "color": "#636efa",
          "symbol": "circle"
         },
         "mode": "markers",
         "name": "the",
         "scene": "scene",
         "showlegend": true,
         "type": "scatter3d",
         "x": [
          0.1445763260126114
         ],
         "y": [
          -0.570422887802124
         ],
         "z": [
          -0.043124645948410034
         ]
        },
        {
         "hovertemplate": "color=and<br>0=%{x}<br>1=%{y}<br>2=%{z}<extra></extra>",
         "legendgroup": "and",
         "marker": {
          "color": "#EF553B",
          "symbol": "circle"
         },
         "mode": "markers",
         "name": "and",
         "scene": "scene",
         "showlegend": true,
         "type": "scatter3d",
         "x": [
          0.1570359319448471
         ],
         "y": [
          -0.3590784966945648
         ],
         "z": [
          0.03728368878364563
         ]
        },
        {
         "hovertemplate": "color=to<br>0=%{x}<br>1=%{y}<br>2=%{z}<extra></extra>",
         "legendgroup": "to",
         "marker": {
          "color": "#00cc96",
          "symbol": "circle"
         },
         "mode": "markers",
         "name": "to",
         "scene": "scene",
         "showlegend": true,
         "type": "scatter3d",
         "x": [
          -0.3179550766944885
         ],
         "y": [
          -0.5637780427932739
         ],
         "z": [
          0.20569369196891785
         ]
        },
        {
         "hovertemplate": "color=of<br>0=%{x}<br>1=%{y}<br>2=%{z}<extra></extra>",
         "legendgroup": "of",
         "marker": {
          "color": "#ab63fa",
          "symbol": "circle"
         },
         "mode": "markers",
         "name": "of",
         "scene": "scene",
         "showlegend": true,
         "type": "scatter3d",
         "x": [
          -0.010859042406082153
         ],
         "y": [
          -0.36323094367980957
         ],
         "z": [
          -0.106158047914505
         ]
        },
        {
         "hovertemplate": "color=he<br>0=%{x}<br>1=%{y}<br>2=%{z}<extra></extra>",
         "legendgroup": "he",
         "marker": {
          "color": "#FFA15A",
          "symbol": "circle"
         },
         "mode": "markers",
         "name": "he",
         "scene": "scene",
         "showlegend": true,
         "type": "scatter3d",
         "x": [
          -0.12975050508975983
         ],
         "y": [
          -0.5383296012878418
         ],
         "z": [
          0.23918494582176208
         ]
        },
        {
         "hovertemplate": "color=his<br>0=%{x}<br>1=%{y}<br>2=%{z}<extra></extra>",
         "legendgroup": "his",
         "marker": {
          "color": "#19d3f3",
          "symbol": "circle"
         },
         "mode": "markers",
         "name": "his",
         "scene": "scene",
         "showlegend": true,
         "type": "scatter3d",
         "x": [
          0.03366093337535858
         ],
         "y": [
          -0.3002623915672302
         ],
         "z": [
          0.3275298476219177
         ]
        },
        {
         "hovertemplate": "color=was<br>0=%{x}<br>1=%{y}<br>2=%{z}<extra></extra>",
         "legendgroup": "was",
         "marker": {
          "color": "#FF6692",
          "symbol": "circle"
         },
         "mode": "markers",
         "name": "was",
         "scene": "scene",
         "showlegend": true,
         "type": "scatter3d",
         "x": [
          -0.12381155043840408
         ],
         "y": [
          -0.4051382839679718
         ],
         "z": [
          0.3064809739589691
         ]
        },
        {
         "hovertemplate": "color=you<br>0=%{x}<br>1=%{y}<br>2=%{z}<extra></extra>",
         "legendgroup": "you",
         "marker": {
          "color": "#B6E880",
          "symbol": "circle"
         },
         "mode": "markers",
         "name": "you",
         "scene": "scene",
         "showlegend": true,
         "type": "scatter3d",
         "x": [
          -0.5450558662414551
         ],
         "y": [
          -0.6119149327278137
         ],
         "z": [
          0.12059473991394043
         ]
        },
        {
         "hovertemplate": "color=her<br>0=%{x}<br>1=%{y}<br>2=%{z}<extra></extra>",
         "legendgroup": "her",
         "marker": {
          "color": "#FF97FF",
          "symbol": "circle"
         },
         "mode": "markers",
         "name": "her",
         "scene": "scene",
         "showlegend": true,
         "type": "scatter3d",
         "x": [
          0.008273407816886902
         ],
         "y": [
          -0.39543813467025757
         ],
         "z": [
          0.3372793197631836
         ]
        },
        {
         "hovertemplate": "color=in<br>0=%{x}<br>1=%{y}<br>2=%{z}<extra></extra>",
         "legendgroup": "in",
         "marker": {
          "color": "#FECB52",
          "symbol": "circle"
         },
         "mode": "markers",
         "name": "in",
         "scene": "scene",
         "showlegend": true,
         "type": "scatter3d",
         "x": [
          0.06716346740722656
         ],
         "y": [
          -0.44289302825927734
         ],
         "z": [
          0.08561933040618896
         ]
        },
        {
         "hovertemplate": "color=it<br>0=%{x}<br>1=%{y}<br>2=%{z}<extra></extra>",
         "legendgroup": "it",
         "marker": {
          "color": "#636efa",
          "symbol": "circle"
         },
         "mode": "markers",
         "name": "it",
         "scene": "scene",
         "showlegend": true,
         "type": "scatter3d",
         "x": [
          -0.0914837121963501
         ],
         "y": [
          -0.6307172179222107
         ],
         "z": [
          0.23567187786102295
         ]
        },
        {
         "hovertemplate": "color=had<br>0=%{x}<br>1=%{y}<br>2=%{z}<extra></extra>",
         "legendgroup": "had",
         "marker": {
          "color": "#EF553B",
          "symbol": "circle"
         },
         "mode": "markers",
         "name": "had",
         "scene": "scene",
         "showlegend": true,
         "type": "scatter3d",
         "x": [
          -0.14107993245124817
         ],
         "y": [
          -0.4971926808357239
         ],
         "z": [
          0.1601419299840927
         ]
        },
        {
         "hovertemplate": "color=that<br>0=%{x}<br>1=%{y}<br>2=%{z}<extra></extra>",
         "legendgroup": "that",
         "marker": {
          "color": "#00cc96",
          "symbol": "circle"
         },
         "mode": "markers",
         "name": "that",
         "scene": "scene",
         "showlegend": true,
         "type": "scatter3d",
         "x": [
          -0.325391560792923
         ],
         "y": [
          -0.5928608775138855
         ],
         "z": [
          0.07068897783756256
         ]
        },
        {
         "hovertemplate": "color=she<br>0=%{x}<br>1=%{y}<br>2=%{z}<extra></extra>",
         "legendgroup": "she",
         "marker": {
          "color": "#ab63fa",
          "symbol": "circle"
         },
         "mode": "markers",
         "name": "she",
         "scene": "scene",
         "showlegend": true,
         "type": "scatter3d",
         "x": [
          -0.09175456315279007
         ],
         "y": [
          -0.5152308344841003
         ],
         "z": [
          0.26866376399993896
         ]
        },
        {
         "hovertemplate": "color=as<br>0=%{x}<br>1=%{y}<br>2=%{z}<extra></extra>",
         "legendgroup": "as",
         "marker": {
          "color": "#FFA15A",
          "symbol": "circle"
         },
         "mode": "markers",
         "name": "as",
         "scene": "scene",
         "showlegend": true,
         "type": "scatter3d",
         "x": [
          -0.054190926253795624
         ],
         "y": [
          -0.4708646535873413
         ],
         "z": [
          0.2528470754623413
         ]
        },
        {
         "hovertemplate": "color=with<br>0=%{x}<br>1=%{y}<br>2=%{z}<extra></extra>",
         "legendgroup": "with",
         "marker": {
          "color": "#19d3f3",
          "symbol": "circle"
         },
         "mode": "markers",
         "name": "with",
         "scene": "scene",
         "showlegend": true,
         "type": "scatter3d",
         "x": [
          0.09997840225696564
         ],
         "y": [
          -0.28361842036247253
         ],
         "z": [
          0.20294372737407684
         ]
        },
        {
         "hovertemplate": "color=him<br>0=%{x}<br>1=%{y}<br>2=%{z}<extra></extra>",
         "legendgroup": "him",
         "marker": {
          "color": "#FF6692",
          "symbol": "circle"
         },
         "mode": "markers",
         "name": "him",
         "scene": "scene",
         "showlegend": true,
         "type": "scatter3d",
         "x": [
          -0.12111446261405945
         ],
         "y": [
          -0.5387994050979614
         ],
         "z": [
          0.28096821904182434
         ]
        },
        {
         "hovertemplate": "color=not<br>0=%{x}<br>1=%{y}<br>2=%{z}<extra></extra>",
         "legendgroup": "not",
         "marker": {
          "color": "#B6E880",
          "symbol": "circle"
         },
         "mode": "markers",
         "name": "not",
         "scene": "scene",
         "showlegend": true,
         "type": "scatter3d",
         "x": [
          -0.47177672386169434
         ],
         "y": [
          -0.5522833466529846
         ],
         "z": [
          0.20486807823181152
         ]
        },
        {
         "hovertemplate": "color=but<br>0=%{x}<br>1=%{y}<br>2=%{z}<extra></extra>",
         "legendgroup": "but",
         "marker": {
          "color": "#FF97FF",
          "symbol": "circle"
         },
         "mode": "markers",
         "name": "but",
         "scene": "scene",
         "showlegend": true,
         "type": "scatter3d",
         "x": [
          -0.24928727746009827
         ],
         "y": [
          -0.5989003777503967
         ],
         "z": [
          0.1720689833164215
         ]
        },
        {
         "hovertemplate": "color=for<br>0=%{x}<br>1=%{y}<br>2=%{z}<extra></extra>",
         "legendgroup": "for",
         "marker": {
          "color": "#FECB52",
          "symbol": "circle"
         },
         "mode": "markers",
         "name": "for",
         "scene": "scene",
         "showlegend": true,
         "type": "scatter3d",
         "x": [
          -0.4651135206222534
         ],
         "y": [
          -0.4922488033771515
         ],
         "z": [
          0.170689657330513
         ]
        }
       ],
       "layout": {
        "legend": {
         "title": {
          "text": "color"
         },
         "tracegroupgap": 0
        },
        "margin": {
         "t": 60
        },
        "scene": {
         "domain": {
          "x": [
           0,
           1
          ],
          "y": [
           0,
           1
          ]
         },
         "xaxis": {
          "title": {
           "text": "0"
          }
         },
         "yaxis": {
          "title": {
           "text": "1"
          }
         },
         "zaxis": {
          "title": {
           "text": "2"
          }
         }
        },
        "template": {
         "data": {
          "bar": [
           {
            "error_x": {
             "color": "#2a3f5f"
            },
            "error_y": {
             "color": "#2a3f5f"
            },
            "marker": {
             "line": {
              "color": "#E5ECF6",
              "width": 0.5
             },
             "pattern": {
              "fillmode": "overlay",
              "size": 10,
              "solidity": 0.2
             }
            },
            "type": "bar"
           }
          ],
          "barpolar": [
           {
            "marker": {
             "line": {
              "color": "#E5ECF6",
              "width": 0.5
             },
             "pattern": {
              "fillmode": "overlay",
              "size": 10,
              "solidity": 0.2
             }
            },
            "type": "barpolar"
           }
          ],
          "carpet": [
           {
            "aaxis": {
             "endlinecolor": "#2a3f5f",
             "gridcolor": "white",
             "linecolor": "white",
             "minorgridcolor": "white",
             "startlinecolor": "#2a3f5f"
            },
            "baxis": {
             "endlinecolor": "#2a3f5f",
             "gridcolor": "white",
             "linecolor": "white",
             "minorgridcolor": "white",
             "startlinecolor": "#2a3f5f"
            },
            "type": "carpet"
           }
          ],
          "choropleth": [
           {
            "colorbar": {
             "outlinewidth": 0,
             "ticks": ""
            },
            "type": "choropleth"
           }
          ],
          "contour": [
           {
            "colorbar": {
             "outlinewidth": 0,
             "ticks": ""
            },
            "colorscale": [
             [
              0,
              "#0d0887"
             ],
             [
              0.1111111111111111,
              "#46039f"
             ],
             [
              0.2222222222222222,
              "#7201a8"
             ],
             [
              0.3333333333333333,
              "#9c179e"
             ],
             [
              0.4444444444444444,
              "#bd3786"
             ],
             [
              0.5555555555555556,
              "#d8576b"
             ],
             [
              0.6666666666666666,
              "#ed7953"
             ],
             [
              0.7777777777777778,
              "#fb9f3a"
             ],
             [
              0.8888888888888888,
              "#fdca26"
             ],
             [
              1,
              "#f0f921"
             ]
            ],
            "type": "contour"
           }
          ],
          "contourcarpet": [
           {
            "colorbar": {
             "outlinewidth": 0,
             "ticks": ""
            },
            "type": "contourcarpet"
           }
          ],
          "heatmap": [
           {
            "colorbar": {
             "outlinewidth": 0,
             "ticks": ""
            },
            "colorscale": [
             [
              0,
              "#0d0887"
             ],
             [
              0.1111111111111111,
              "#46039f"
             ],
             [
              0.2222222222222222,
              "#7201a8"
             ],
             [
              0.3333333333333333,
              "#9c179e"
             ],
             [
              0.4444444444444444,
              "#bd3786"
             ],
             [
              0.5555555555555556,
              "#d8576b"
             ],
             [
              0.6666666666666666,
              "#ed7953"
             ],
             [
              0.7777777777777778,
              "#fb9f3a"
             ],
             [
              0.8888888888888888,
              "#fdca26"
             ],
             [
              1,
              "#f0f921"
             ]
            ],
            "type": "heatmap"
           }
          ],
          "heatmapgl": [
           {
            "colorbar": {
             "outlinewidth": 0,
             "ticks": ""
            },
            "colorscale": [
             [
              0,
              "#0d0887"
             ],
             [
              0.1111111111111111,
              "#46039f"
             ],
             [
              0.2222222222222222,
              "#7201a8"
             ],
             [
              0.3333333333333333,
              "#9c179e"
             ],
             [
              0.4444444444444444,
              "#bd3786"
             ],
             [
              0.5555555555555556,
              "#d8576b"
             ],
             [
              0.6666666666666666,
              "#ed7953"
             ],
             [
              0.7777777777777778,
              "#fb9f3a"
             ],
             [
              0.8888888888888888,
              "#fdca26"
             ],
             [
              1,
              "#f0f921"
             ]
            ],
            "type": "heatmapgl"
           }
          ],
          "histogram": [
           {
            "marker": {
             "pattern": {
              "fillmode": "overlay",
              "size": 10,
              "solidity": 0.2
             }
            },
            "type": "histogram"
           }
          ],
          "histogram2d": [
           {
            "colorbar": {
             "outlinewidth": 0,
             "ticks": ""
            },
            "colorscale": [
             [
              0,
              "#0d0887"
             ],
             [
              0.1111111111111111,
              "#46039f"
             ],
             [
              0.2222222222222222,
              "#7201a8"
             ],
             [
              0.3333333333333333,
              "#9c179e"
             ],
             [
              0.4444444444444444,
              "#bd3786"
             ],
             [
              0.5555555555555556,
              "#d8576b"
             ],
             [
              0.6666666666666666,
              "#ed7953"
             ],
             [
              0.7777777777777778,
              "#fb9f3a"
             ],
             [
              0.8888888888888888,
              "#fdca26"
             ],
             [
              1,
              "#f0f921"
             ]
            ],
            "type": "histogram2d"
           }
          ],
          "histogram2dcontour": [
           {
            "colorbar": {
             "outlinewidth": 0,
             "ticks": ""
            },
            "colorscale": [
             [
              0,
              "#0d0887"
             ],
             [
              0.1111111111111111,
              "#46039f"
             ],
             [
              0.2222222222222222,
              "#7201a8"
             ],
             [
              0.3333333333333333,
              "#9c179e"
             ],
             [
              0.4444444444444444,
              "#bd3786"
             ],
             [
              0.5555555555555556,
              "#d8576b"
             ],
             [
              0.6666666666666666,
              "#ed7953"
             ],
             [
              0.7777777777777778,
              "#fb9f3a"
             ],
             [
              0.8888888888888888,
              "#fdca26"
             ],
             [
              1,
              "#f0f921"
             ]
            ],
            "type": "histogram2dcontour"
           }
          ],
          "mesh3d": [
           {
            "colorbar": {
             "outlinewidth": 0,
             "ticks": ""
            },
            "type": "mesh3d"
           }
          ],
          "parcoords": [
           {
            "line": {
             "colorbar": {
              "outlinewidth": 0,
              "ticks": ""
             }
            },
            "type": "parcoords"
           }
          ],
          "pie": [
           {
            "automargin": true,
            "type": "pie"
           }
          ],
          "scatter": [
           {
            "fillpattern": {
             "fillmode": "overlay",
             "size": 10,
             "solidity": 0.2
            },
            "type": "scatter"
           }
          ],
          "scatter3d": [
           {
            "line": {
             "colorbar": {
              "outlinewidth": 0,
              "ticks": ""
             }
            },
            "marker": {
             "colorbar": {
              "outlinewidth": 0,
              "ticks": ""
             }
            },
            "type": "scatter3d"
           }
          ],
          "scattercarpet": [
           {
            "marker": {
             "colorbar": {
              "outlinewidth": 0,
              "ticks": ""
             }
            },
            "type": "scattercarpet"
           }
          ],
          "scattergeo": [
           {
            "marker": {
             "colorbar": {
              "outlinewidth": 0,
              "ticks": ""
             }
            },
            "type": "scattergeo"
           }
          ],
          "scattergl": [
           {
            "marker": {
             "colorbar": {
              "outlinewidth": 0,
              "ticks": ""
             }
            },
            "type": "scattergl"
           }
          ],
          "scattermapbox": [
           {
            "marker": {
             "colorbar": {
              "outlinewidth": 0,
              "ticks": ""
             }
            },
            "type": "scattermapbox"
           }
          ],
          "scatterpolar": [
           {
            "marker": {
             "colorbar": {
              "outlinewidth": 0,
              "ticks": ""
             }
            },
            "type": "scatterpolar"
           }
          ],
          "scatterpolargl": [
           {
            "marker": {
             "colorbar": {
              "outlinewidth": 0,
              "ticks": ""
             }
            },
            "type": "scatterpolargl"
           }
          ],
          "scatterternary": [
           {
            "marker": {
             "colorbar": {
              "outlinewidth": 0,
              "ticks": ""
             }
            },
            "type": "scatterternary"
           }
          ],
          "surface": [
           {
            "colorbar": {
             "outlinewidth": 0,
             "ticks": ""
            },
            "colorscale": [
             [
              0,
              "#0d0887"
             ],
             [
              0.1111111111111111,
              "#46039f"
             ],
             [
              0.2222222222222222,
              "#7201a8"
             ],
             [
              0.3333333333333333,
              "#9c179e"
             ],
             [
              0.4444444444444444,
              "#bd3786"
             ],
             [
              0.5555555555555556,
              "#d8576b"
             ],
             [
              0.6666666666666666,
              "#ed7953"
             ],
             [
              0.7777777777777778,
              "#fb9f3a"
             ],
             [
              0.8888888888888888,
              "#fdca26"
             ],
             [
              1,
              "#f0f921"
             ]
            ],
            "type": "surface"
           }
          ],
          "table": [
           {
            "cells": {
             "fill": {
              "color": "#EBF0F8"
             },
             "line": {
              "color": "white"
             }
            },
            "header": {
             "fill": {
              "color": "#C8D4E3"
             },
             "line": {
              "color": "white"
             }
            },
            "type": "table"
           }
          ]
         },
         "layout": {
          "annotationdefaults": {
           "arrowcolor": "#2a3f5f",
           "arrowhead": 0,
           "arrowwidth": 1
          },
          "autotypenumbers": "strict",
          "coloraxis": {
           "colorbar": {
            "outlinewidth": 0,
            "ticks": ""
           }
          },
          "colorscale": {
           "diverging": [
            [
             0,
             "#8e0152"
            ],
            [
             0.1,
             "#c51b7d"
            ],
            [
             0.2,
             "#de77ae"
            ],
            [
             0.3,
             "#f1b6da"
            ],
            [
             0.4,
             "#fde0ef"
            ],
            [
             0.5,
             "#f7f7f7"
            ],
            [
             0.6,
             "#e6f5d0"
            ],
            [
             0.7,
             "#b8e186"
            ],
            [
             0.8,
             "#7fbc41"
            ],
            [
             0.9,
             "#4d9221"
            ],
            [
             1,
             "#276419"
            ]
           ],
           "sequential": [
            [
             0,
             "#0d0887"
            ],
            [
             0.1111111111111111,
             "#46039f"
            ],
            [
             0.2222222222222222,
             "#7201a8"
            ],
            [
             0.3333333333333333,
             "#9c179e"
            ],
            [
             0.4444444444444444,
             "#bd3786"
            ],
            [
             0.5555555555555556,
             "#d8576b"
            ],
            [
             0.6666666666666666,
             "#ed7953"
            ],
            [
             0.7777777777777778,
             "#fb9f3a"
            ],
            [
             0.8888888888888888,
             "#fdca26"
            ],
            [
             1,
             "#f0f921"
            ]
           ],
           "sequentialminus": [
            [
             0,
             "#0d0887"
            ],
            [
             0.1111111111111111,
             "#46039f"
            ],
            [
             0.2222222222222222,
             "#7201a8"
            ],
            [
             0.3333333333333333,
             "#9c179e"
            ],
            [
             0.4444444444444444,
             "#bd3786"
            ],
            [
             0.5555555555555556,
             "#d8576b"
            ],
            [
             0.6666666666666666,
             "#ed7953"
            ],
            [
             0.7777777777777778,
             "#fb9f3a"
            ],
            [
             0.8888888888888888,
             "#fdca26"
            ],
            [
             1,
             "#f0f921"
            ]
           ]
          },
          "colorway": [
           "#636efa",
           "#EF553B",
           "#00cc96",
           "#ab63fa",
           "#FFA15A",
           "#19d3f3",
           "#FF6692",
           "#B6E880",
           "#FF97FF",
           "#FECB52"
          ],
          "font": {
           "color": "#2a3f5f"
          },
          "geo": {
           "bgcolor": "white",
           "lakecolor": "white",
           "landcolor": "#E5ECF6",
           "showlakes": true,
           "showland": true,
           "subunitcolor": "white"
          },
          "hoverlabel": {
           "align": "left"
          },
          "hovermode": "closest",
          "mapbox": {
           "style": "light"
          },
          "paper_bgcolor": "white",
          "plot_bgcolor": "#E5ECF6",
          "polar": {
           "angularaxis": {
            "gridcolor": "white",
            "linecolor": "white",
            "ticks": ""
           },
           "bgcolor": "#E5ECF6",
           "radialaxis": {
            "gridcolor": "white",
            "linecolor": "white",
            "ticks": ""
           }
          },
          "scene": {
           "xaxis": {
            "backgroundcolor": "#E5ECF6",
            "gridcolor": "white",
            "gridwidth": 2,
            "linecolor": "white",
            "showbackground": true,
            "ticks": "",
            "zerolinecolor": "white"
           },
           "yaxis": {
            "backgroundcolor": "#E5ECF6",
            "gridcolor": "white",
            "gridwidth": 2,
            "linecolor": "white",
            "showbackground": true,
            "ticks": "",
            "zerolinecolor": "white"
           },
           "zaxis": {
            "backgroundcolor": "#E5ECF6",
            "gridcolor": "white",
            "gridwidth": 2,
            "linecolor": "white",
            "showbackground": true,
            "ticks": "",
            "zerolinecolor": "white"
           }
          },
          "shapedefaults": {
           "line": {
            "color": "#2a3f5f"
           }
          },
          "ternary": {
           "aaxis": {
            "gridcolor": "white",
            "linecolor": "white",
            "ticks": ""
           },
           "baxis": {
            "gridcolor": "white",
            "linecolor": "white",
            "ticks": ""
           },
           "bgcolor": "#E5ECF6",
           "caxis": {
            "gridcolor": "white",
            "linecolor": "white",
            "ticks": ""
           }
          },
          "title": {
           "x": 0.05
          },
          "xaxis": {
           "automargin": true,
           "gridcolor": "white",
           "linecolor": "white",
           "ticks": "",
           "title": {
            "standoff": 15
           },
           "zerolinecolor": "white",
           "zerolinewidth": 2
          },
          "yaxis": {
           "automargin": true,
           "gridcolor": "white",
           "linecolor": "white",
           "ticks": "",
           "title": {
            "standoff": 15
           },
           "zerolinecolor": "white",
           "zerolinewidth": 2
          }
         }
        }
       }
      }
     },
     "metadata": {},
     "output_type": "display_data"
    }
   ],
   "source": [
    "import plotly.express as px\n",
    "fig = px.scatter_3d(x[:20], x = 0, y = 1, z = 2, color=y[:20])\n",
    "fig.show()"
   ]
  },
  {
   "cell_type": "code",
   "execution_count": null,
   "id": "f7426d05",
   "metadata": {},
   "outputs": [],
   "source": []
  }
 ],
 "metadata": {
  "kernelspec": {
   "display_name": "base",
   "language": "python",
   "name": "python3"
  },
  "language_info": {
   "codemirror_mode": {
    "name": "ipython",
    "version": 3
   },
   "file_extension": ".py",
   "mimetype": "text/x-python",
   "name": "python",
   "nbconvert_exporter": "python",
   "pygments_lexer": "ipython3",
   "version": "3.12.11"
  }
 },
 "nbformat": 4,
 "nbformat_minor": 5
}
